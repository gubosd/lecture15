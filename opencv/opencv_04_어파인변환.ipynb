{
 "cells": [
  {
   "cell_type": "markdown",
   "metadata": {},
   "source": [
    "## OpenCV\n",
    "# Affine Transformation"
   ]
  },
  {
   "cell_type": "code",
   "execution_count": 1,
   "metadata": {},
   "outputs": [],
   "source": [
    "import numpy as np\n",
    "import matplotlib.pyplot as plt\n",
    "import cv2"
   ]
  },
  {
   "cell_type": "code",
   "execution_count": 2,
   "metadata": {},
   "outputs": [],
   "source": [
    "bob = cv2.imread('bob.jpg')"
   ]
  },
  {
   "cell_type": "code",
   "execution_count": 4,
   "metadata": {},
   "outputs": [
    {
     "data": {
      "text/plain": [
       "(355, 355, 3)"
      ]
     },
     "execution_count": 4,
     "metadata": {},
     "output_type": "execute_result"
    }
   ],
   "source": [
    "bob.shape"
   ]
  },
  {
   "cell_type": "markdown",
   "metadata": {},
   "source": [
    "### 정의\n",
    "x' = ax + by + c<br>\n",
    "y' = dx + ey + f<br>\n",
    "\n",
    "- 위의 수식에서, [[a,b,c], [d,e,f]] 를 어파인변환행렬 이라고 한다\n",
    "- 평행이동, 확대 및 축소, 회전 등의 조합\n",
    "- 평행사변형으로 변환 (직선은 직선으로 변환, 직선 간의 길이비율과 평행관계는 유지됨)\n",
    "- 변환되는 세점의 관계를 알면 어파인변환행렬을 구할 수 있다"
   ]
  },
  {
   "cell_type": "markdown",
   "metadata": {},
   "source": [
    "### 평행이동"
   ]
  },
  {
   "cell_type": "code",
   "execution_count": 16,
   "metadata": {},
   "outputs": [],
   "source": [
    "M = np.array([[1,0,100],[0,1,50]], dtype=np.float32) # x축으로 100, y축으로 50\n",
    "bob2 = cv2.warpAffine(bob, M, (500,500)) # 출력이미지 크기 : (폭, 높이)\n",
    "\n",
    "cv2.imshow('image', bob2)\n",
    "cv2.waitKey(0)\n",
    "cv2.destroyAllWindows()"
   ]
  },
  {
   "cell_type": "markdown",
   "metadata": {},
   "source": [
    "### 전단변환 (비틀기)"
   ]
  },
  {
   "cell_type": "code",
   "execution_count": 20,
   "metadata": {},
   "outputs": [],
   "source": [
    "M = np.array([[1,0.1,0],[0,1,0]], dtype=np.float32) # x축으로 비틀기 (0.1)\n",
    "bob2 = cv2.warpAffine(bob, M, (500,500))\n",
    "\n",
    "cv2.imshow('image', bob2)\n",
    "cv2.waitKey(0)\n",
    "cv2.destroyAllWindows()"
   ]
  },
  {
   "cell_type": "code",
   "execution_count": 21,
   "metadata": {},
   "outputs": [],
   "source": [
    "M = np.array([[1,0,0],[0.1,1,0]], dtype=np.float32) # y축으로 비틀기 (0.1)\n",
    "bob2 = cv2.warpAffine(bob, M, (500,500))\n",
    "\n",
    "cv2.imshow('image', bob2)\n",
    "cv2.waitKey(0)\n",
    "cv2.destroyAllWindows()"
   ]
  },
  {
   "cell_type": "markdown",
   "metadata": {},
   "source": [
    "### 크기변환 (확대/축소)"
   ]
  },
  {
   "cell_type": "code",
   "execution_count": 23,
   "metadata": {},
   "outputs": [],
   "source": [
    "M = np.array([[1.2,0,0],[0,0.8,0]], dtype=np.float32) # 20% 확대/축소\n",
    "bob2 = cv2.warpAffine(bob, M, (500,500))\n",
    "\n",
    "cv2.imshow('image', bob2)\n",
    "cv2.waitKey(0)\n",
    "cv2.destroyAllWindows()"
   ]
  },
  {
   "cell_type": "markdown",
   "metadata": {},
   "source": [
    "- cv2.resize() 사용"
   ]
  },
  {
   "cell_type": "code",
   "execution_count": 34,
   "metadata": {},
   "outputs": [],
   "source": [
    "bob2 = cv2.resize(bob, (200,200))\n",
    "\n",
    "cv2.imshow('image', bob2)\n",
    "cv2.waitKey(0)\n",
    "cv2.destroyAllWindows()"
   ]
  },
  {
   "cell_type": "markdown",
   "metadata": {},
   "source": [
    "### 회전변환\n",
    "- [[cos(a),-sin(a),0], [sin(a),cos(a),0]] : 시계방향 회전"
   ]
  },
  {
   "cell_type": "code",
   "execution_count": 24,
   "metadata": {},
   "outputs": [],
   "source": [
    "M = np.array([[np.cos(np.pi/4),-np.sin(np.pi/4),0],[np.sin(np.pi/4),np.cos(np.pi/4),0]], dtype=np.float32)\n",
    "bob2 = cv2.warpAffine(bob, M, (500,500))\n",
    "\n",
    "cv2.imshow('image', bob2)\n",
    "cv2.waitKey(0)\n",
    "cv2.destroyAllWindows()"
   ]
  },
  {
   "cell_type": "markdown",
   "metadata": {},
   "source": [
    "- 중심점, 각도, 확대비율 지정"
   ]
  },
  {
   "cell_type": "code",
   "execution_count": 29,
   "metadata": {},
   "outputs": [],
   "source": [
    "M = cv2.getRotationMatrix2D((355/2.0, 355/2.0), 45, 1)"
   ]
  },
  {
   "cell_type": "code",
   "execution_count": 30,
   "metadata": {},
   "outputs": [],
   "source": [
    "bob2 = cv2.warpAffine(bob, M, (355,355))\n",
    "\n",
    "cv2.imshow('image', bob2)\n",
    "cv2.waitKey(0)\n",
    "cv2.destroyAllWindows()"
   ]
  },
  {
   "cell_type": "markdown",
   "metadata": {},
   "source": [
    "### 대칭변환\n",
    "- numpy 방식\n",
    "- 어파인변환\n",
    "- cv2.flip() 함수"
   ]
  },
  {
   "cell_type": "code",
   "execution_count": null,
   "metadata": {},
   "outputs": [],
   "source": []
  }
 ],
 "metadata": {
  "kernelspec": {
   "display_name": "Python 3",
   "language": "python",
   "name": "python3"
  },
  "language_info": {
   "codemirror_mode": {
    "name": "ipython",
    "version": 3
   },
   "file_extension": ".py",
   "mimetype": "text/x-python",
   "name": "python",
   "nbconvert_exporter": "python",
   "pygments_lexer": "ipython3",
   "version": "3.7.0"
  }
 },
 "nbformat": 4,
 "nbformat_minor": 2
}
