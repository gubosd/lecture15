{
 "cells": [
  {
   "cell_type": "markdown",
   "metadata": {},
   "source": [
    "## 빅데이터 활용 AI 설계\n",
    "# VGG-16 모델 적용 : Cifar-10 학습"
   ]
  },
  {
   "cell_type": "code",
   "execution_count": null,
   "metadata": {},
   "outputs": [],
   "source": [
    "import numpy as np\n",
    "import matplotlib.pyplot as plt"
   ]
  },
  {
   "cell_type": "code",
   "execution_count": 2,
   "metadata": {},
   "outputs": [
    {
     "name": "stderr",
     "output_type": "stream",
     "text": [
      "C:\\Anaconda3\\envs\\py36\\lib\\site-packages\\h5py\\__init__.py:36: FutureWarning: Conversion of the second argument of issubdtype from `float` to `np.floating` is deprecated. In future, it will be treated as `np.float64 == np.dtype(float).type`.\n",
      "  from ._conv import register_converters as _register_converters\n",
      "Using TensorFlow backend.\n"
     ]
    }
   ],
   "source": [
    "from keras.applications import VGG16"
   ]
  },
  {
   "cell_type": "code",
   "execution_count": 12,
   "metadata": {},
   "outputs": [],
   "source": [
    "vgg16 = VGG16(weights='imagenet', include_top=False, input_shape=(32,32,3))"
   ]
  },
  {
   "cell_type": "code",
   "execution_count": null,
   "metadata": {},
   "outputs": [],
   "source": []
  },
  {
   "cell_type": "code",
   "execution_count": null,
   "metadata": {},
   "outputs": [],
   "source": [
    "'''\n",
    "from keras.preprocessing.image import load_img, img_to_array\n",
    "from keras.applications.vgg16 import preprocess_input\n",
    "\n",
    "image = load_img('bob_dylan.jpg')\n",
    "bob = img_to_array(image)\n",
    "\n",
    "input_image = np.expand_dims(bob, axis=0)\n",
    "input_image = preprocess_input(input_image)\n",
    "\n",
    "conv_result = vgg16.predict(input_image)\n",
    "conv_result.shape\n",
    "'''"
   ]
  },
  {
   "cell_type": "code",
   "execution_count": null,
   "metadata": {},
   "outputs": [],
   "source": []
  },
  {
   "cell_type": "code",
   "execution_count": 11,
   "metadata": {},
   "outputs": [],
   "source": [
    "from keras.datasets import cifar10\n",
    "from keras.utils import to_categorical\n",
    "\n",
    "(X_train, y_train), (X_test, y_test) = cifar10.load_data()\n",
    "\n",
    "X_train = X_train/255.\n",
    "X_test = X_test/255.\n",
    "\n",
    "y_train = to_categorical(y_train)\n",
    "y_test = to_categorical(y_test, 10)"
   ]
  },
  {
   "cell_type": "code",
   "execution_count": 13,
   "metadata": {},
   "outputs": [
    {
     "data": {
      "text/plain": [
       "((50000, 32, 32, 3), (50000, 10), (10000, 32, 32, 3), (10000, 10))"
      ]
     },
     "execution_count": 13,
     "metadata": {},
     "output_type": "execute_result"
    }
   ],
   "source": [
    "X_train.shape, y_train.shape, X_test.shape, y_test.shape"
   ]
  },
  {
   "cell_type": "code",
   "execution_count": null,
   "metadata": {},
   "outputs": [],
   "source": []
  },
  {
   "cell_type": "code",
   "execution_count": 54,
   "metadata": {},
   "outputs": [],
   "source": [
    "conv_images = vgg16.predict(X_train).reshape(50000,-1)"
   ]
  },
  {
   "cell_type": "code",
   "execution_count": 55,
   "metadata": {},
   "outputs": [
    {
     "data": {
      "text/plain": [
       "(50000, 512)"
      ]
     },
     "execution_count": 55,
     "metadata": {},
     "output_type": "execute_result"
    }
   ],
   "source": [
    "conv_images.shape"
   ]
  },
  {
   "cell_type": "code",
   "execution_count": null,
   "metadata": {},
   "outputs": [],
   "source": []
  },
  {
   "cell_type": "code",
   "execution_count": 48,
   "metadata": {},
   "outputs": [],
   "source": [
    "from keras.models import Sequential\n",
    "from keras.layers import Dense, Dropout\n",
    "from keras.optimizers import RMSprop"
   ]
  },
  {
   "cell_type": "code",
   "execution_count": 56,
   "metadata": {},
   "outputs": [],
   "source": [
    "model = Sequential()\n",
    "model.add(Dense(512, activation='relu', input_shape=(512,)))\n",
    "model.add(Dropout(0.5))\n",
    "model.add(Dense(10, activation='softmax'))"
   ]
  },
  {
   "cell_type": "code",
   "execution_count": 57,
   "metadata": {},
   "outputs": [
    {
     "name": "stdout",
     "output_type": "stream",
     "text": [
      "_________________________________________________________________\n",
      "Layer (type)                 Output Shape              Param #   \n",
      "=================================================================\n",
      "dense_15 (Dense)             (None, 512)               262656    \n",
      "_________________________________________________________________\n",
      "dropout_7 (Dropout)          (None, 512)               0         \n",
      "_________________________________________________________________\n",
      "dense_16 (Dense)             (None, 10)                5130      \n",
      "=================================================================\n",
      "Total params: 267,786\n",
      "Trainable params: 267,786\n",
      "Non-trainable params: 0\n",
      "_________________________________________________________________\n"
     ]
    }
   ],
   "source": [
    "model.summary()"
   ]
  },
  {
   "cell_type": "code",
   "execution_count": 58,
   "metadata": {},
   "outputs": [],
   "source": [
    "model.compile(loss='categorical_crossentropy', optimizer=RMSprop(lr=0.0001), metrics=['acc'])"
   ]
  },
  {
   "cell_type": "code",
   "execution_count": 59,
   "metadata": {},
   "outputs": [
    {
     "name": "stdout",
     "output_type": "stream",
     "text": [
      "Train on 40000 samples, validate on 10000 samples\n",
      "Epoch 1/100\n",
      "40000/40000 [==============================] - 15s 364us/step - loss: 1.9584 - acc: 0.2989 - val_loss: 1.6234 - val_acc: 0.4700\n",
      "Epoch 2/100\n",
      "40000/40000 [==============================] - 13s 328us/step - loss: 1.6115 - acc: 0.4398 - val_loss: 1.4761 - val_acc: 0.4984\n",
      "Epoch 3/100\n",
      "40000/40000 [==============================] - 13s 329us/step - loss: 1.5031 - acc: 0.4793 - val_loss: 1.4071 - val_acc: 0.5173\n",
      "Epoch 4/100\n",
      "40000/40000 [==============================] - 13s 331us/step - loss: 1.4338 - acc: 0.5027 - val_loss: 1.3583 - val_acc: 0.5319\n",
      "Epoch 5/100\n",
      "40000/40000 [==============================] - 14s 340us/step - loss: 1.3918 - acc: 0.5174 - val_loss: 1.3274 - val_acc: 0.5442\n",
      "Epoch 6/100\n",
      "40000/40000 [==============================] - 13s 334us/step - loss: 1.3604 - acc: 0.5288 - val_loss: 1.3019 - val_acc: 0.5512\n",
      "Epoch 7/100\n",
      "40000/40000 [==============================] - 13s 332us/step - loss: 1.3314 - acc: 0.5382 - val_loss: 1.2824 - val_acc: 0.5561\n",
      "Epoch 8/100\n",
      "40000/40000 [==============================] - 14s 341us/step - loss: 1.3081 - acc: 0.5454 - val_loss: 1.2655 - val_acc: 0.5604\n",
      "Epoch 9/100\n",
      "40000/40000 [==============================] - 14s 343us/step - loss: 1.2863 - acc: 0.5526 - val_loss: 1.2486 - val_acc: 0.5675\n",
      "Epoch 10/100\n",
      "40000/40000 [==============================] - 14s 338us/step - loss: 1.2709 - acc: 0.5600 - val_loss: 1.2370 - val_acc: 0.5706\n",
      "Epoch 11/100\n",
      "40000/40000 [==============================] - 13s 336us/step - loss: 1.2562 - acc: 0.5645 - val_loss: 1.2278 - val_acc: 0.5747\n",
      "Epoch 12/100\n",
      "40000/40000 [==============================] - 14s 341us/step - loss: 1.2418 - acc: 0.5675 - val_loss: 1.2190 - val_acc: 0.5783\n",
      "Epoch 13/100\n",
      "40000/40000 [==============================] - 14s 339us/step - loss: 1.2305 - acc: 0.5744 - val_loss: 1.2089 - val_acc: 0.5771\n",
      "Epoch 14/100\n",
      "40000/40000 [==============================] - 14s 346us/step - loss: 1.2183 - acc: 0.5797 - val_loss: 1.2019 - val_acc: 0.5822\n",
      "Epoch 15/100\n",
      "40000/40000 [==============================] - 14s 343us/step - loss: 1.2115 - acc: 0.5795 - val_loss: 1.1936 - val_acc: 0.5830\n",
      "Epoch 16/100\n",
      "40000/40000 [==============================] - 14s 339us/step - loss: 1.1995 - acc: 0.5829 - val_loss: 1.1884 - val_acc: 0.5836\n",
      "Epoch 17/100\n",
      "40000/40000 [==============================] - 14s 341us/step - loss: 1.1881 - acc: 0.5886 - val_loss: 1.1849 - val_acc: 0.5886\n",
      "Epoch 18/100\n",
      "40000/40000 [==============================] - 14s 343us/step - loss: 1.1806 - acc: 0.5898 - val_loss: 1.1767 - val_acc: 0.5885\n",
      "Epoch 19/100\n",
      "40000/40000 [==============================] - 14s 339us/step - loss: 1.1716 - acc: 0.5938 - val_loss: 1.1723 - val_acc: 0.5896\n",
      "Epoch 20/100\n",
      "40000/40000 [==============================] - 14s 342us/step - loss: 1.1662 - acc: 0.5954 - val_loss: 1.1680 - val_acc: 0.5908\n",
      "Epoch 21/100\n",
      "40000/40000 [==============================] - 14s 347us/step - loss: 1.1584 - acc: 0.5998 - val_loss: 1.1644 - val_acc: 0.5937\n",
      "Epoch 22/100\n",
      "40000/40000 [==============================] - 14s 339us/step - loss: 1.1522 - acc: 0.6025 - val_loss: 1.1625 - val_acc: 0.5964\n",
      "Epoch 23/100\n",
      "40000/40000 [==============================] - 14s 345us/step - loss: 1.1467 - acc: 0.6022 - val_loss: 1.1561 - val_acc: 0.5967\n",
      "Epoch 24/100\n",
      "40000/40000 [==============================] - 14s 339us/step - loss: 1.1388 - acc: 0.6070 - val_loss: 1.1524 - val_acc: 0.5985\n",
      "Epoch 25/100\n",
      "40000/40000 [==============================] - 14s 339us/step - loss: 1.1337 - acc: 0.6075 - val_loss: 1.1502 - val_acc: 0.5989\n",
      "Epoch 26/100\n",
      "40000/40000 [==============================] - 14s 343us/step - loss: 1.1270 - acc: 0.6083 - val_loss: 1.1478 - val_acc: 0.5995\n",
      "Epoch 27/100\n",
      "40000/40000 [==============================] - 13s 334us/step - loss: 1.1210 - acc: 0.6120 - val_loss: 1.1439 - val_acc: 0.6012\n",
      "Epoch 28/100\n",
      "40000/40000 [==============================] - 13s 336us/step - loss: 1.1173 - acc: 0.6142 - val_loss: 1.1432 - val_acc: 0.6014\n",
      "Epoch 29/100\n",
      "40000/40000 [==============================] - 14s 344us/step - loss: 1.1106 - acc: 0.6135 - val_loss: 1.1398 - val_acc: 0.6075\n",
      "Epoch 30/100\n",
      "40000/40000 [==============================] - 14s 342us/step - loss: 1.1085 - acc: 0.6167 - val_loss: 1.1376 - val_acc: 0.6037\n",
      "Epoch 31/100\n",
      "40000/40000 [==============================] - 14s 346us/step - loss: 1.0980 - acc: 0.6184 - val_loss: 1.1352 - val_acc: 0.6051\n",
      "Epoch 32/100\n",
      "40000/40000 [==============================] - 14s 351us/step - loss: 1.0981 - acc: 0.6202 - val_loss: 1.1335 - val_acc: 0.6041\n",
      "Epoch 33/100\n",
      "40000/40000 [==============================] - 14s 350us/step - loss: 1.0930 - acc: 0.6188 - val_loss: 1.1304 - val_acc: 0.6082\n",
      "Epoch 34/100\n",
      "40000/40000 [==============================] - 14s 352us/step - loss: 1.0860 - acc: 0.6243 - val_loss: 1.1279 - val_acc: 0.6107\n",
      "Epoch 35/100\n",
      "40000/40000 [==============================] - 13s 337us/step - loss: 1.0822 - acc: 0.6258 - val_loss: 1.1276 - val_acc: 0.6084\n",
      "Epoch 36/100\n",
      "40000/40000 [==============================] - 13s 329us/step - loss: 1.0797 - acc: 0.6264 - val_loss: 1.1266 - val_acc: 0.6102\n",
      "Epoch 37/100\n",
      "40000/40000 [==============================] - 13s 327us/step - loss: 1.0746 - acc: 0.6303 - val_loss: 1.1218 - val_acc: 0.6100\n",
      "Epoch 38/100\n",
      "40000/40000 [==============================] - 14s 343us/step - loss: 1.0691 - acc: 0.6313 - val_loss: 1.1200 - val_acc: 0.6121\n",
      "Epoch 39/100\n",
      "40000/40000 [==============================] - 13s 330us/step - loss: 1.0667 - acc: 0.6304 - val_loss: 1.1197 - val_acc: 0.6123\n",
      "Epoch 40/100\n",
      "40000/40000 [==============================] - 14s 340us/step - loss: 1.0607 - acc: 0.6357 - val_loss: 1.1180 - val_acc: 0.6130\n",
      "Epoch 41/100\n",
      "40000/40000 [==============================] - 14s 342us/step - loss: 1.0634 - acc: 0.6311 - val_loss: 1.1174 - val_acc: 0.6142\n",
      "Epoch 42/100\n",
      "40000/40000 [==============================] - 13s 330us/step - loss: 1.0531 - acc: 0.6338 - val_loss: 1.1148 - val_acc: 0.6155\n",
      "Epoch 43/100\n",
      "40000/40000 [==============================] - 13s 334us/step - loss: 1.0526 - acc: 0.6336 - val_loss: 1.1134 - val_acc: 0.6161\n",
      "Epoch 44/100\n",
      "40000/40000 [==============================] - 14s 339us/step - loss: 1.0471 - acc: 0.6387 - val_loss: 1.1127 - val_acc: 0.6158\n",
      "Epoch 45/100\n",
      "40000/40000 [==============================] - 13s 331us/step - loss: 1.0450 - acc: 0.6386 - val_loss: 1.1113 - val_acc: 0.6167\n",
      "Epoch 46/100\n",
      "40000/40000 [==============================] - 13s 328us/step - loss: 1.0393 - acc: 0.6393 - val_loss: 1.1105 - val_acc: 0.6166\n",
      "Epoch 47/100\n",
      "40000/40000 [==============================] - 13s 321us/step - loss: 1.0363 - acc: 0.6425 - val_loss: 1.1090 - val_acc: 0.6178\n",
      "Epoch 48/100\n",
      "40000/40000 [==============================] - 13s 324us/step - loss: 1.0332 - acc: 0.6443 - val_loss: 1.1070 - val_acc: 0.6170\n",
      "Epoch 49/100\n",
      "40000/40000 [==============================] - 13s 333us/step - loss: 1.0302 - acc: 0.6426 - val_loss: 1.1063 - val_acc: 0.6210\n",
      "Epoch 50/100\n",
      "40000/40000 [==============================] - 13s 336us/step - loss: 1.0288 - acc: 0.6456 - val_loss: 1.1052 - val_acc: 0.6209\n",
      "Epoch 51/100\n",
      "40000/40000 [==============================] - 13s 328us/step - loss: 1.0246 - acc: 0.6447 - val_loss: 1.1050 - val_acc: 0.6185\n",
      "Epoch 52/100\n",
      "40000/40000 [==============================] - 13s 322us/step - loss: 1.0220 - acc: 0.6467 - val_loss: 1.1084 - val_acc: 0.6175\n",
      "Epoch 53/100\n",
      "40000/40000 [==============================] - 13s 330us/step - loss: 1.0176 - acc: 0.6494 - val_loss: 1.1036 - val_acc: 0.6194\n",
      "Epoch 54/100\n",
      "40000/40000 [==============================] - 13s 327us/step - loss: 1.0153 - acc: 0.6506 - val_loss: 1.1055 - val_acc: 0.6198\n",
      "Epoch 55/100\n",
      "40000/40000 [==============================] - 13s 326us/step - loss: 1.0098 - acc: 0.6523 - val_loss: 1.1017 - val_acc: 0.6195\n",
      "Epoch 56/100\n",
      "40000/40000 [==============================] - 13s 325us/step - loss: 1.0094 - acc: 0.6511 - val_loss: 1.1004 - val_acc: 0.6223\n",
      "Epoch 57/100\n",
      "40000/40000 [==============================] - 13s 326us/step - loss: 1.0066 - acc: 0.6499 - val_loss: 1.0999 - val_acc: 0.6222\n",
      "Epoch 58/100\n"
     ]
    },
    {
     "name": "stdout",
     "output_type": "stream",
     "text": [
      "40000/40000 [==============================] - 15s 384us/step - loss: 1.0004 - acc: 0.6572 - val_loss: 1.1005 - val_acc: 0.6196\n",
      "Epoch 59/100\n",
      "40000/40000 [==============================] - 15s 384us/step - loss: 0.9995 - acc: 0.6533 - val_loss: 1.0994 - val_acc: 0.6225\n",
      "Epoch 60/100\n",
      "40000/40000 [==============================] - 14s 343us/step - loss: 0.9959 - acc: 0.6563 - val_loss: 1.0981 - val_acc: 0.6247\n",
      "Epoch 61/100\n",
      "40000/40000 [==============================] - 14s 343us/step - loss: 0.9945 - acc: 0.6563 - val_loss: 1.0988 - val_acc: 0.6231\n",
      "Epoch 62/100\n",
      "40000/40000 [==============================] - 14s 350us/step - loss: 0.9903 - acc: 0.6596 - val_loss: 1.0962 - val_acc: 0.6237\n",
      "Epoch 63/100\n",
      "40000/40000 [==============================] - 14s 355us/step - loss: 0.9928 - acc: 0.6587 - val_loss: 1.0960 - val_acc: 0.6233\n",
      "Epoch 64/100\n",
      "40000/40000 [==============================] - 14s 351us/step - loss: 0.9851 - acc: 0.6621 - val_loss: 1.0959 - val_acc: 0.6231\n",
      "Epoch 65/100\n",
      "40000/40000 [==============================] - 14s 352us/step - loss: 0.9860 - acc: 0.6600 - val_loss: 1.0943 - val_acc: 0.6254\n",
      "Epoch 66/100\n",
      "40000/40000 [==============================] - 14s 346us/step - loss: 0.9830 - acc: 0.6603 - val_loss: 1.0947 - val_acc: 0.6265\n",
      "Epoch 67/100\n",
      "40000/40000 [==============================] - 14s 349us/step - loss: 0.9766 - acc: 0.6629 - val_loss: 1.0954 - val_acc: 0.6234\n",
      "Epoch 68/100\n",
      "40000/40000 [==============================] - 14s 346us/step - loss: 0.9717 - acc: 0.6651 - val_loss: 1.0936 - val_acc: 0.6252\n",
      "Epoch 69/100\n",
      "40000/40000 [==============================] - 14s 348us/step - loss: 0.9719 - acc: 0.6684 - val_loss: 1.0955 - val_acc: 0.6251\n",
      "Epoch 70/100\n",
      "40000/40000 [==============================] - 14s 354us/step - loss: 0.9702 - acc: 0.6668 - val_loss: 1.0923 - val_acc: 0.6256\n",
      "Epoch 71/100\n",
      "40000/40000 [==============================] - 14s 349us/step - loss: 0.9660 - acc: 0.6694 - val_loss: 1.0942 - val_acc: 0.6246\n",
      "Epoch 72/100\n",
      "40000/40000 [==============================] - 14s 349us/step - loss: 0.9626 - acc: 0.6683 - val_loss: 1.0918 - val_acc: 0.6290\n",
      "Epoch 73/100\n",
      "40000/40000 [==============================] - 14s 344us/step - loss: 0.9620 - acc: 0.6684 - val_loss: 1.0948 - val_acc: 0.6277\n",
      "Epoch 74/100\n",
      "40000/40000 [==============================] - 14s 345us/step - loss: 0.9599 - acc: 0.6701 - val_loss: 1.0914 - val_acc: 0.6277\n",
      "Epoch 75/100\n",
      "40000/40000 [==============================] - 14s 356us/step - loss: 0.9574 - acc: 0.6703 - val_loss: 1.0928 - val_acc: 0.6271\n",
      "Epoch 76/100\n",
      "40000/40000 [==============================] - 14s 352us/step - loss: 0.9494 - acc: 0.6738 - val_loss: 1.0908 - val_acc: 0.6279\n",
      "Epoch 77/100\n",
      "40000/40000 [==============================] - 14s 345us/step - loss: 0.9499 - acc: 0.6731 - val_loss: 1.0909 - val_acc: 0.6296\n",
      "Epoch 78/100\n",
      "40000/40000 [==============================] - 12s 308us/step - loss: 0.9476 - acc: 0.6751 - val_loss: 1.0900 - val_acc: 0.6299\n",
      "Epoch 79/100\n",
      "40000/40000 [==============================] - 15s 375us/step - loss: 0.9466 - acc: 0.6752 - val_loss: 1.0908 - val_acc: 0.6288\n",
      "Epoch 80/100\n",
      "40000/40000 [==============================] - 14s 346us/step - loss: 0.9434 - acc: 0.6775 - val_loss: 1.0888 - val_acc: 0.6317\n",
      "Epoch 81/100\n",
      "40000/40000 [==============================] - 14s 345us/step - loss: 0.9380 - acc: 0.6774 - val_loss: 1.0910 - val_acc: 0.6287\n",
      "Epoch 82/100\n",
      "40000/40000 [==============================] - 15s 365us/step - loss: 0.9382 - acc: 0.6793 - val_loss: 1.0910 - val_acc: 0.6302\n",
      "Epoch 83/100\n",
      "40000/40000 [==============================] - 14s 351us/step - loss: 0.9373 - acc: 0.6755 - val_loss: 1.0889 - val_acc: 0.6307\n",
      "Epoch 84/100\n",
      "40000/40000 [==============================] - 14s 350us/step - loss: 0.9372 - acc: 0.6780 - val_loss: 1.0887 - val_acc: 0.6319\n",
      "Epoch 85/100\n",
      "40000/40000 [==============================] - 14s 341us/step - loss: 0.9333 - acc: 0.6810 - val_loss: 1.0904 - val_acc: 0.6304\n",
      "Epoch 86/100\n",
      "40000/40000 [==============================] - 14s 343us/step - loss: 0.9304 - acc: 0.6794 - val_loss: 1.0868 - val_acc: 0.6327\n",
      "Epoch 87/100\n",
      "40000/40000 [==============================] - 14s 348us/step - loss: 0.9296 - acc: 0.6802 - val_loss: 1.0886 - val_acc: 0.6315\n",
      "Epoch 88/100\n",
      "40000/40000 [==============================] - 14s 344us/step - loss: 0.9219 - acc: 0.6829 - val_loss: 1.0894 - val_acc: 0.6306\n",
      "Epoch 89/100\n",
      "40000/40000 [==============================] - 14s 338us/step - loss: 0.9234 - acc: 0.6828 - val_loss: 1.0871 - val_acc: 0.6339\n",
      "Epoch 90/100\n",
      "40000/40000 [==============================] - 14s 341us/step - loss: 0.9228 - acc: 0.6855 - val_loss: 1.0892 - val_acc: 0.6325\n",
      "Epoch 91/100\n",
      "40000/40000 [==============================] - 14s 338us/step - loss: 0.9184 - acc: 0.6854 - val_loss: 1.0882 - val_acc: 0.6323\n",
      "Epoch 92/100\n",
      "40000/40000 [==============================] - 13s 336us/step - loss: 0.9181 - acc: 0.6842 - val_loss: 1.0886 - val_acc: 0.6331\n",
      "Epoch 93/100\n",
      "40000/40000 [==============================] - 13s 337us/step - loss: 0.9178 - acc: 0.6865 - val_loss: 1.0866 - val_acc: 0.6329\n",
      "Epoch 94/100\n",
      "40000/40000 [==============================] - 14s 339us/step - loss: 0.9079 - acc: 0.6875 - val_loss: 1.0906 - val_acc: 0.6307\n",
      "Epoch 95/100\n",
      "40000/40000 [==============================] - 13s 334us/step - loss: 0.9102 - acc: 0.6871 - val_loss: 1.0889 - val_acc: 0.6332\n",
      "Epoch 96/100\n",
      "40000/40000 [==============================] - 13s 335us/step - loss: 0.9096 - acc: 0.6885 - val_loss: 1.0913 - val_acc: 0.6310\n",
      "Epoch 97/100\n",
      "40000/40000 [==============================] - 13s 333us/step - loss: 0.9069 - acc: 0.6886 - val_loss: 1.0875 - val_acc: 0.6329\n",
      "Epoch 98/100\n",
      "40000/40000 [==============================] - 13s 331us/step - loss: 0.9031 - acc: 0.6916 - val_loss: 1.0864 - val_acc: 0.6334\n",
      "Epoch 99/100\n",
      "40000/40000 [==============================] - 13s 330us/step - loss: 0.9020 - acc: 0.6921 - val_loss: 1.0886 - val_acc: 0.6331\n",
      "Epoch 100/100\n",
      "40000/40000 [==============================] - 13s 332us/step - loss: 0.8997 - acc: 0.6922 - val_loss: 1.0896 - val_acc: 0.6326\n"
     ]
    },
    {
     "data": {
      "text/plain": [
       "<keras.callbacks.History at 0x22d54b013c8>"
      ]
     },
     "execution_count": 59,
     "metadata": {},
     "output_type": "execute_result"
    }
   ],
   "source": [
    "model.fit(conv_images, y_train, batch_size=128, epochs=100, validation_split=0.2)"
   ]
  },
  {
   "cell_type": "code",
   "execution_count": 60,
   "metadata": {},
   "outputs": [
    {
     "data": {
      "text/plain": [
       "<matplotlib.legend.Legend at 0x22d556c8a58>"
      ]
     },
     "execution_count": 60,
     "metadata": {},
     "output_type": "execute_result"
    },
    {
     "data": {
      "image/png": "[encoded data removed]",
      "text/plain": [
       "<Figure size 720x360 with 2 Axes>"
      ]
     },
     "metadata": {},
     "output_type": "display_data"
    }
   ],
   "source": [
    "h = model.history.history\n",
    "plt.figure(figsize=[10,5])\n",
    "\n",
    "plt.subplot(1,2,1)\n",
    "plt.plot(h['loss'])\n",
    "plt.plot(h['val_loss'])\n",
    "plt.title('Loss')\n",
    "plt.xlabel('epoch')\n",
    "plt.legend(['loss','val_loss'])\n",
    "\n",
    "plt.subplot(1,2,2)\n",
    "plt.plot(h['acc'])\n",
    "plt.plot(h['val_acc'])\n",
    "plt.title('Accuracy')\n",
    "plt.xlabel('epoch')\n",
    "plt.legend(['acc','val_acc'])"
   ]
  }
 ],
 "metadata": {
  "kernelspec": {
   "display_name": "Python 3",
   "language": "python",
   "name": "python3"
  },
  "language_info": {
   "codemirror_mode": {
    "name": "ipython",
    "version": 3
   },
   "file_extension": ".py",
   "mimetype": "text/x-python",
   "name": "python",
   "nbconvert_exporter": "python",
   "pygments_lexer": "ipython3",
   "version": "3.6.5"
  }
 },
 "nbformat": 4,
 "nbformat_minor": 2
}
