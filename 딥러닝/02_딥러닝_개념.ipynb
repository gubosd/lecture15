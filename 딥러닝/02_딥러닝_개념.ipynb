{
 "cells": [
  {
   "cell_type": "markdown",
   "metadata": {},
   "source": [
    "## 빅데이터 활용 AI 설계\n",
    "# 딥러닝(Deep Learning) 개념"
   ]
  },
  {
   "cell_type": "markdown",
   "metadata": {},
   "source": [
    "### 딥러닝 특징"
   ]
  },
  {
   "cell_type": "markdown",
   "metadata": {},
   "source": [
    "- 깊은 층 (입력에서 출력 까지 중간의 층수가 많다) => **심층신경망**\n",
    "<img src='dnn1.jpg' />"
   ]
  },
  {
   "cell_type": "markdown",
   "metadata": {},
   "source": [
    "- 특이한 형태의 변환을 적용한다 (CNN, RNN 등)\n",
    "> 아래 그림은 사진에서의 필터 개념을 적용한 CNN 이다.\n",
    "\n",
    "<img src='dnn2.jpg' />"
   ]
  },
  {
   "cell_type": "markdown",
   "metadata": {},
   "source": [
    "- 차례대로 층을 쌓는 형태 뿐만 아니라 복잡한 구조를 적용할 수 있다.\n",
    "> 아래 그림과 같이 신경망 2개를 연결하여 새로운 신경망을 만들 수 있다. (GAN)\n",
    "\n",
    "<img src='https://skymind.ai/images/wiki/GANs.png' />"
   ]
  },
  {
   "cell_type": "markdown",
   "metadata": {},
   "source": [
    "### 딥러닝의 발전\n",
    "- 딥러닝의 기본 아이디어는 이미 20세기에 나와있었다. 최근에 큰 발전을 이룬 이유는?\n",
    "\n",
    "> - 하드웨어의 발전\n",
    "> - 풍부한 데이터\n",
    "> - 알고리즘 향상\n",
    "> - 인터넷 커뮤니티"
   ]
  }
 ],
 "metadata": {
  "kernelspec": {
   "display_name": "Python 3",
   "language": "python",
   "name": "python3"
  },
  "language_info": {
   "codemirror_mode": {
    "name": "ipython",
    "version": 3
   },
   "file_extension": ".py",
   "mimetype": "text/x-python",
   "name": "python",
   "nbconvert_exporter": "python",
   "pygments_lexer": "ipython3",
   "version": "3.6.5"
  }
 },
 "nbformat": 4,
 "nbformat_minor": 2
}
